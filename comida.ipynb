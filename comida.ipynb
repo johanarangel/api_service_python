{
  "nbformat": 4,
  "nbformat_minor": 0,
  "metadata": {
    "orig_nbformat": 2,
    "colab": {
      "name": "comida.ipynb",
      "provenance": [],
      "collapsed_sections": [],
      "toc_visible": true,
      "include_colab_link": true
    },
    "kernelspec": {
      "name": "python3",
      "display_name": "Python 3"
    }
  },
  "cells": [
    {
      "cell_type": "markdown",
      "metadata": {
        "id": "view-in-github",
        "colab_type": "text"
      },
      "source": [
        "<a href=\"https://colab.research.google.com/github/johanarangel/api_service_python/blob/master/comida.ipynb\" target=\"_parent\"><img src=\"https://colab.research.google.com/assets/colab-badge.svg\" alt=\"Open In Colab\"/></a>"
      ]
    },
    {
      "cell_type": "markdown",
      "metadata": {
        "id": "uhq4SYXtOHUR"
      },
      "source": [
        "#Visualización y limpieza con pandas"
      ]
    },
    {
      "cell_type": "code",
      "metadata": {
        "id": "ssvjMiigO5Bj"
      },
      "source": [
        "import os\r\n",
        "import platform\r\n",
        "import numpy as np\r\n",
        "import matplotlib.pyplot as plt\r\n",
        "import seaborn as sns\r\n",
        "import pandas as pd\r\n",
        "from sklearn import dataset"
      ],
      "execution_count": null,
      "outputs": []
    },
    {
      "cell_type": "markdown",
      "metadata": {
        "id": "770WpG-mP9rH"
      },
      "source": [
        "#Recolectar datos"
      ]
    },
    {
      "cell_type": "code",
      "metadata": {
        "id": "7sTWPpIiT-6t"
      },
      "source": [
        "if os.access('drug200.csv', os.F_OK) is False:\r\n",
        "    if platform.system() == 'Windows':\r\n",
        "        !curl https://raw.githubusercontent.com/InoveAlumnos/dataset_analytics_python/master/drug200.csv > drug200.csv\r\n",
        "    else:\r\n",
        "        !wget drug200.csv https://raw.githubusercontent.com/InoveAlumnos/dataset_analytics_python/master/drug200.csv"
      ],
      "execution_count": null,
      "outputs": []
    },
    {
      "cell_type": "markdown",
      "metadata": {
        "id": "PD15q_bad80N"
      },
      "source": [
        "#Procesar datos"
      ]
    },
    {
      "cell_type": "code",
      "metadata": {
        "id": "9_wPeg3-eFIN"
      },
      "source": [
        ""
      ],
      "execution_count": null,
      "outputs": []
    }
  ]
}